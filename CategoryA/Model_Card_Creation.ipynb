{
  "cells": [
    {
      "cell_type": "markdown",
      "metadata": {
        "id": "3y5__yaUKyb1"
      },
      "source": [
        "The model card template makes use of Jinja, hence we need to install the necessary package."
      ]
    },
    {
      "cell_type": "code",
      "execution_count": 1,
      "metadata": {
        "colab": {
          "base_uri": "https://localhost:8080/"
        },
        "id": "kjSmXdzczFoh",
        "outputId": "27891584-dbd5-4970-fcd4-a49e682827fc"
      },
      "outputs": [
        {
          "name": "stdout",
          "output_type": "stream",
          "text": [
            "Requirement already satisfied: Jinja2 in /Users/josephhayes/Desktop/University/NLP/Coursework2/.conda/lib/python3.9/site-packages (3.1.6)\n",
            "Requirement already satisfied: MarkupSafe>=2.0 in /Users/josephhayes/Desktop/University/NLP/Coursework2/.conda/lib/python3.9/site-packages (from Jinja2) (3.0.2)\n"
          ]
        }
      ],
      "source": [
        "!pip install Jinja2"
      ]
    },
    {
      "cell_type": "markdown",
      "metadata": {
        "id": "Puto8-5ILO2s"
      },
      "source": [
        "Required import statement"
      ]
    },
    {
      "cell_type": "code",
      "execution_count": 2,
      "metadata": {
        "id": "inUOAq0Yy_O5"
      },
      "outputs": [
        {
          "name": "stderr",
          "output_type": "stream",
          "text": [
            "/Users/josephhayes/Desktop/University/NLP/Coursework2/.conda/lib/python3.9/site-packages/tqdm/auto.py:21: TqdmWarning: IProgress not found. Please update jupyter and ipywidgets. See https://ipywidgets.readthedocs.io/en/stable/user_install.html\n",
            "  from .autonotebook import tqdm as notebook_tqdm\n"
          ]
        }
      ],
      "source": [
        "from huggingface_hub import ModelCard, ModelCardData"
      ]
    },
    {
      "cell_type": "markdown",
      "metadata": {
        "id": "TX5nkStaLTRC"
      },
      "source": [
        "Before running the cell below, upload the model card template (`COMP34812_modelcard_template.md`) provided to you using the Colab file browser (on the left-hand side)."
      ]
    },
    {
      "cell_type": "code",
      "execution_count": 3,
      "metadata": {
        "colab": {
          "base_uri": "https://localhost:8080/"
        },
        "id": "pg4o6fuPbl5X",
        "outputId": "2a50a3a5-c07e-4777-bf8c-3e555af6518c"
      },
      "outputs": [
        {
          "name": "stderr",
          "output_type": "stream",
          "text": [
            "Repo card metadata block was not found. Setting CardData to empty.\n"
          ]
        }
      ],
      "source": [
        "card_data = ModelCardData(\n",
        "    language='en',\n",
        "    license='cc-by-4.0',\n",
        "    tags=['text-classification'],\n",
        "    # change the line below to specify the URL to your Github/Gitlab repo\n",
        "    repo=\"https://github.com/Zezoo123/nlu_group1\",\n",
        "    ignore_metadata_errors=True)\n",
        "\n",
        "card = ModelCard.from_template(\n",
        "    card_data=card_data,\n",
        "    template_path='COMP34812_modelcard_template.md',\n",
        "    model_id='p45493za-d99547jh-nli',\n",
        "\n",
        "    model_summary='''This model performs natural language inference by predicting the relationship\n",
        "      between a pair of texts (premise and hypothesis) using a combination of SBERT and TF-IDF embeddings.''',\n",
        "\n",
        "    model_description='''This model combines Sentence-BERT (MiniLM) embeddings with TF-IDF features to\n",
        "      represent input text pairs. These combined features are used to train a logistic regression classifier\n",
        "      to identify relationships between premise-hypothesis pairs''',\n",
        "\n",
        "    developers='Joseph Hayes & Zeyad Awadalla',\n",
        "    base_model_repo='https://huggingface.co/sentence-transformers/all-MiniLM-L6-v2',\n",
        "    base_model_paper='https://arxiv.org/abs/1908.10084',\n",
        "    model_type='Supervised',\n",
        "    model_architecture='SVM (SBERT + TF-IDF Features)',\n",
        "    language='English',\n",
        "    base_model='sentence-transformers/all-MiniLM-L6-v2',\n",
        "    training_data='Data was provided to us by the lecturer',\n",
        "    hyperparameters='''\n",
        "      - C (logistic regression): 0.1 (tuned via GridSearchCV)\n",
        "      - solver: liblinear\n",
        "      - max_iter: 1000\n",
        "      - SBERT model: all-MiniLM-L6-v2\n",
        "      - TF-IDF: binary=True, ngram_range=(1,3), min_df=3\n",
        "      - combined features: [SBERT | TF-IDF]\n",
        "    ''',\n",
        "    speeds_sizes_times='''\n",
        "      - overall training time: ~5 minutes\n",
        "      - model size: ~127KB (SBERT) + vectorized features\n",
        "      - grid search folds: 3\n",
        "    ''',\n",
        "    testing_data='Data was porvided to us by the lecturer',\n",
        "    testing_metrics='''\n",
        "      - Accuracy\n",
        "      - Precision (Macro & Weighted)\n",
        "      - Recall (Macro & Weighted)\n",
        "      - F1-score (Macro & Weighted)\n",
        "      - Matthews Correlation Coefficient (MCC)\n",
        "    ''',\n",
        "    results=f'''\n",
        "      - Accuracy: 0.6317\n",
        "      - Macro-F1: 0.6306\n",
        "      - Weighted F1: 0.6313\n",
        "      - MCC: 0.2618\n",
        "    ''',\n",
        "    hardware_requirements='''\n",
        "      - RAM: 8–16 GB\n",
        "      - GPU: Not required\n",
        "      - Storage: ~200MB for model + data\n",
        "    ''',\n",
        "    software='''\n",
        "      - sentence-transformers\n",
        "      - scikit-learn\n",
        "      - nltk\n",
        "      - pandas, numpy, tqdm\n",
        "    ''',\n",
        "    bias_risks_limitations='''Model relies on pretrained SBERT embeddings and TF-IDF statistics,\n",
        "      which may reflect biases present in the original corpora.''',\n",
        "    additional_information='''The combination of semantic embeddings and statistical features\n",
        "      provided improved performance over the baseline. Hyperparameters were selected using GridSearchCV.'''\n",
        ")\n",
        "\n",
        "# the following lines will write a markdown (.md) file; this becomes one of your model cards\n",
        "# change the filename accordingly\n",
        "with open('svm_model_card.md', 'w') as model_card:\n",
        "  model_card.write(card.content)"
      ]
    }
  ],
  "metadata": {
    "colab": {
      "provenance": []
    },
    "kernelspec": {
      "display_name": "Python 3",
      "name": "python3"
    },
    "language_info": {
      "codemirror_mode": {
        "name": "ipython",
        "version": 3
      },
      "file_extension": ".py",
      "mimetype": "text/x-python",
      "name": "python",
      "nbconvert_exporter": "python",
      "pygments_lexer": "ipython3",
      "version": "3.9.20"
    }
  },
  "nbformat": 4,
  "nbformat_minor": 0
}
