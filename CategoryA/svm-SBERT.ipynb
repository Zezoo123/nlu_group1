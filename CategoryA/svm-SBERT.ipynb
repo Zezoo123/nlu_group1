{
 "cells": [
  {
   "cell_type": "markdown",
   "metadata": {},
   "source": [
    "# Natural Language Inference with SVM and SBERT & TF-IDF\n",
    "\n",
    "This notebook combines the SVM model implementation with SBERT embeddings & TF-IDF for Natural Language Inference (NLI) tasks."
   ]
  },
  {
   "cell_type": "code",
   "execution_count": 1,
   "metadata": {
    "execution": {
     "iopub.execute_input": "2025-04-03T16:11:18.069425Z",
     "iopub.status.busy": "2025-04-03T16:11:18.069026Z",
     "iopub.status.idle": "2025-04-03T16:11:18.074189Z",
     "shell.execute_reply": "2025-04-03T16:11:18.073427Z",
     "shell.execute_reply.started": "2025-04-03T16:11:18.069398Z"
    },
    "trusted": true
   },
   "outputs": [
    {
     "ename": "ModuleNotFoundError",
     "evalue": "No module named 'sentence_transformers'",
     "output_type": "error",
     "traceback": [
      "\u001b[0;31m---------------------------------------------------------------------------\u001b[0m",
      "\u001b[0;31mModuleNotFoundError\u001b[0m                       Traceback (most recent call last)",
      "Cell \u001b[0;32mIn[1], line 13\u001b[0m\n\u001b[1;32m     11\u001b[0m \u001b[38;5;28;01mimport\u001b[39;00m \u001b[38;5;21;01mre\u001b[39;00m\n\u001b[1;32m     12\u001b[0m \u001b[38;5;28;01mfrom\u001b[39;00m \u001b[38;5;21;01mgensim\u001b[39;00m\u001b[38;5;21;01m.\u001b[39;00m\u001b[38;5;21;01mmodels\u001b[39;00m \u001b[38;5;28;01mimport\u001b[39;00m KeyedVectors\n\u001b[0;32m---> 13\u001b[0m \u001b[38;5;28;01mfrom\u001b[39;00m \u001b[38;5;21;01msentence_transformers\u001b[39;00m \u001b[38;5;28;01mimport\u001b[39;00m SentenceTransformer\n\u001b[1;32m     14\u001b[0m \u001b[38;5;28;01mfrom\u001b[39;00m \u001b[38;5;21;01msklearn\u001b[39;00m\u001b[38;5;21;01m.\u001b[39;00m\u001b[38;5;21;01mmetrics\u001b[39;00m \u001b[38;5;28;01mimport\u001b[39;00m (\n\u001b[1;32m     15\u001b[0m     accuracy_score, precision_score, recall_score, f1_score, matthews_corrcoef\n\u001b[1;32m     16\u001b[0m )\n\u001b[1;32m     18\u001b[0m \u001b[38;5;66;03m# nltk.data.path.append('/kaggle/input/nltk-data1/nltk_data')\u001b[39;00m\n",
      "\u001b[0;31mModuleNotFoundError\u001b[0m: No module named 'sentence_transformers'"
     ]
    }
   ],
   "source": [
    "import pandas as pd\n",
    "import numpy as np\n",
    "import nltk\n",
    "from sklearn.feature_extraction.text import TfidfVectorizer\n",
    "from sklearn.model_selection import GridSearchCV, StratifiedKFold\n",
    "from sklearn.linear_model import LogisticRegression\n",
    "from nltk.tokenize import word_tokenize\n",
    "from nltk.corpus import stopwords\n",
    "from nltk.stem import WordNetLemmatizer\n",
    "from tqdm import tqdm\n",
    "import re\n",
    "from gensim.models import KeyedVectors\n",
    "from sentence_transformers import SentenceTransformer\n",
    "from sklearn.metrics import (\n",
    "    accuracy_score, precision_score, recall_score, f1_score, matthews_corrcoef\n",
    ")\n",
    "\n",
    "# nltk.data.path.append('/kaggle/input/nltk-data1/nltk_data')"
   ]
  },
  {
   "cell_type": "markdown",
   "metadata": {},
   "source": [
    "## Data Preprocessing Class"
   ]
  },
  {
   "cell_type": "markdown",
   "metadata": {},
   "source": [
    "Handles text cleaning and vectorization for classification tasks.\n",
    "\n",
    "**Key Features:**\n",
    "- `preprocess_text(text)`: Lowercases, removes noise, lemmatizes text.\n",
    "- `vectorize_with_sentence_transformer(texts)`: Encodes using SBERT.\n",
    "- `vectorize_with_tfidf(train, dev)`: TF-IDF encoding (1–3 grams, binary).\n",
    "- `prepare_data(train_path, dev_path, method)`: Full pipeline including preprocessing and vectorization.\n",
    "\n",
    "Currently supports the `'ensemble'` method combining SBERT and TF-IDF.\n"
   ]
  },
  {
   "cell_type": "code",
   "execution_count": null,
   "metadata": {
    "execution": {
     "iopub.execute_input": "2025-04-03T16:11:18.075521Z",
     "iopub.status.busy": "2025-04-03T16:11:18.075303Z",
     "iopub.status.idle": "2025-04-03T16:11:18.094279Z",
     "shell.execute_reply": "2025-04-03T16:11:18.093616Z",
     "shell.execute_reply.started": "2025-04-03T16:11:18.075501Z"
    },
    "trusted": true
   },
   "outputs": [],
   "source": [
    "class DataPreprocessor:\n",
    "    def __init__(self):\n",
    "        self.stop_words = set(stopwords.words('english'))\n",
    "        self.lemmatizer = WordNetLemmatizer()\n",
    "        self.sbert_model = SentenceTransformer('all-MiniLM-L6-v2-local')\n",
    "\n",
    "\n",
    "    def vectorize_with_sentence_transformer(self, texts):\n",
    "        print(\"Vectorizing with SentenceTransformer...\")\n",
    "        return self.sbert_model.encode(texts, show_progress_bar=True)\n",
    "\n",
    "        \n",
    "    def preprocess_text(self, text):\n",
    "        \"\"\"Preprocess a single text string without removing stopwords\"\"\"\n",
    "        text = text.lower()\n",
    "        text = re.sub(r'[^a-zA-Z\\s.,!?]', '', text)\n",
    "        text = re.sub(r'([.,!?])', r' \\1 ', text)\n",
    "        \n",
    "        text = re.sub(r'\\s+', ' ', text)\n",
    "        tokens = word_tokenize(text)\n",
    "\n",
    "        processed_tokens = []\n",
    "        for token in tokens:\n",
    "            if len(token) > 1:\n",
    "                token = self.lemmatizer.lemmatize(token)\n",
    "                processed_tokens.append(token)\n",
    "        \n",
    "        return ' '.join(processed_tokens)\n",
    "\n",
    "    \n",
    "    def vectorize_with_tfidf(self, train_texts, dev_texts):\n",
    "        print(\"Vectorizing with TF-IDF (binary, unigrams + bigrams + trigrams)...\")\n",
    "        self.tfidf_vectorizer = TfidfVectorizer(\n",
    "            max_features=15000,\n",
    "            ngram_range=(1, 3),\n",
    "            min_df=3,\n",
    "            binary=True,\n",
    "            stop_words=None  \n",
    "        )\n",
    "        X_train = self.tfidf_vectorizer.fit_transform(train_texts)\n",
    "        X_dev = self.tfidf_vectorizer.transform(dev_texts)\n",
    "        return X_train, X_dev\n",
    "\n",
    "    \n",
    "    def prepare_data(self, train_path, dev_path, method='word2vec'):\n",
    "        print(\"Loading data...\")\n",
    "        train_df = pd.read_csv(train_path)\n",
    "        dev_df = pd.read_csv(dev_path)\n",
    "\n",
    "        print(\"Preprocessing original training data...\")\n",
    "        train_df['premise'] = train_df['premise'].apply(self.preprocess_text)\n",
    "        train_df['hypothesis'] = train_df['hypothesis'].apply(self.preprocess_text)\n",
    "        train_df['text'] = '[P] ' + train_df['premise'] + ' [H] ' + train_df['hypothesis']\n",
    "    \n",
    "        dev_df['premise'] = dev_df['premise'].apply(self.preprocess_text)\n",
    "        dev_df['hypothesis'] = dev_df['hypothesis'].apply(self.preprocess_text)\n",
    "        dev_df['text'] = '[P] ' + dev_df['premise'] + ' [H] ' + dev_df['hypothesis']\n",
    "    \n",
    "        print(f\"Vectorizing texts using method: {method}\")\n",
    "    \n",
    "        if method == 'ensemble':\n",
    "            X_sbert_train = self.vectorize_with_sentence_transformer(train_df['text'])\n",
    "            X_sbert_dev = self.vectorize_with_sentence_transformer(dev_df['text'])\n",
    "    \n",
    "            X_tfidf_train, X_tfidf_dev = self.vectorize_with_tfidf(train_df['text'], dev_df['text'])\n",
    "    \n",
    "            # Combine features\n",
    "            X_train = np.concatenate([X_sbert_train, X_tfidf_train.toarray()], axis=1)\n",
    "            X_dev = np.concatenate([X_sbert_dev, X_tfidf_dev.toarray()], axis=1)\n",
    "    \n",
    "        else:\n",
    "            raise ValueError(\"Unsupported vectorization method.\")\n",
    "\n",
    "        return X_train, X_dev, train_df['label'].astype(int), dev_df['label'].astype(int)\n",
    "\n",
    "\n"
   ]
  },
  {
   "cell_type": "markdown",
   "metadata": {},
   "source": [
    "## SVM Model Class"
   ]
  },
  {
   "cell_type": "markdown",
   "metadata": {},
   "source": [
    "A wrapper for logistic regression used in classification tasks.  \n",
    "Supports training, evaluation, prediction, and hyperparameter tuning using GridSearchCV.\n",
    "\n",
    "**Key Methods:**\n",
    "- `train(X, y)`: Fit the model.\n",
    "- `evaluate(X, y)`: Print and return classification metrics.\n",
    "- `tune_hyperparameters(X_train, y_train, X_dev, y_dev)`: Grid search for best `C`.\n",
    "- `predict(X)`: Predict labels.\n",
    "- `predict_proba(X)`: Predict probabilities.\n"
   ]
  },
  {
   "cell_type": "code",
   "execution_count": 11,
   "metadata": {
    "execution": {
     "iopub.execute_input": "2025-04-03T16:11:18.096087Z",
     "iopub.status.busy": "2025-04-03T16:11:18.095861Z",
     "iopub.status.idle": "2025-04-03T16:11:18.116441Z",
     "shell.execute_reply": "2025-04-03T16:11:18.115864Z",
     "shell.execute_reply.started": "2025-04-03T16:11:18.096067Z"
    },
    "trusted": true
   },
   "outputs": [],
   "source": [
    "class SVMModel:\n",
    "    def __init__(self):\n",
    "\n",
    "        self.model = LogisticRegression(\n",
    "            C=0.1,\n",
    "            class_weight='balanced',\n",
    "            max_iter=1000,\n",
    "            solver='liblinear'\n",
    "        )\n",
    "\n",
    "    \n",
    "    def tune_hyperparameters(self, X_train, y_train, X_dev, y_dev):\n",
    "        \"\"\"Use GridSearchCV to tune LogisticRegression hyperparameters\"\"\"\n",
    "        print(\"Tuning LogisticRegression hyperparameters...\")\n",
    "    \n",
    "        param_grid = {\n",
    "            'C': [0.01, 0.1, 0.5, 1.0, 2.0, 5.0]\n",
    "        }\n",
    "    \n",
    "        base_model = LogisticRegression(\n",
    "            class_weight='balanced',\n",
    "            max_iter=1000,\n",
    "            solver='liblinear'\n",
    "        )\n",
    "    \n",
    "        cv = StratifiedKFold(n_splits=3, shuffle=True)\n",
    "    \n",
    "        grid_search = GridSearchCV(\n",
    "            estimator=base_model,\n",
    "            param_grid=param_grid,\n",
    "            scoring='accuracy',\n",
    "            cv=cv,\n",
    "            verbose=2,\n",
    "            n_jobs=-1\n",
    "        )\n",
    "    \n",
    "        grid_search.fit(X_train, y_train)\n",
    "        best_model = grid_search.best_estimator_\n",
    "        print(f\"\\nBest Parameters: {grid_search.best_params_}\")\n",
    "        self.model = best_model\n",
    "        return self.evaluate(X_dev, y_dev)\n",
    "        \n",
    "    def train(self, X_train, y_train):\n",
    "        \"\"\"Train the SVM model\"\"\"\n",
    "        print(\"Training SVM model...\")\n",
    "        self.model.fit(X_train, y_train)\n",
    "        print(\"Training completed!\")\n",
    "        \n",
    "    def evaluate(self, X_dev, y_dev):\n",
    "        \"\"\"Evaluate the model on development set with full baseline metrics\"\"\"\n",
    "        print(\"\\nEvaluating model on development set...\")\n",
    "        y_pred = self.model.predict(X_dev)\n",
    "    \n",
    "        # Calculate full metrics\n",
    "        metrics = {\n",
    "            \"Accuracy\": accuracy_score(y_dev, y_pred),\n",
    "            \"Macro-P\": precision_score(y_dev, y_pred, average='macro'),\n",
    "            \"Macro-R\": recall_score(y_dev, y_pred, average='macro'),\n",
    "            \"Macro-F1\": f1_score(y_dev, y_pred, average='macro'),\n",
    "            \"W Macro-P\": precision_score(y_dev, y_pred, average='weighted'),\n",
    "            \"W Macro-R\": recall_score(y_dev, y_pred, average='weighted'),\n",
    "            \"W Macro-F1\": f1_score(y_dev, y_pred, average='weighted'),\n",
    "            \"MCC\": matthews_corrcoef(y_dev, y_pred)\n",
    "        }\n",
    "    \n",
    "        # Print metrics\n",
    "        print(\"\\nModel Performance Metrics:\")\n",
    "        for metric, value in metrics.items():\n",
    "            print(f\"{metric}: {value:.4f}\")\n",
    "    \n",
    "        return metrics\n",
    "    \n",
    "    def predict(self, X):\n",
    "        \"\"\"Make predictions using the trained model\"\"\"\n",
    "        if self.model is None:\n",
    "            raise ValueError(\"Model not trained yet!\")\n",
    "        return self.model.predict(X)\n",
    "    \n",
    "    def predict_proba(self, X):\n",
    "        \"\"\"Get probability estimates for the predictions\"\"\"\n",
    "        if self.model is None:\n",
    "            raise ValueError(\"Model not trained yet!\")\n",
    "        return self.model.predict_proba(X) "
   ]
  },
  {
   "cell_type": "markdown",
   "metadata": {},
   "source": [
    "## Model Training & Prediction Pipeline\n",
    "\n",
    "Runs the full pipeline:\n",
    "\n",
    "1. Initializes the preprocessor and model.\n",
    "2. Loads and preprocesses training and dev data using the `ensemble` method (SBERT + TF-IDF).\n",
    "3. Tunes hyperparameters via `GridSearchCV`.\n",
    "4. Makes predictions on the dev set.\n",
    "5. Saves predictions to `predictions.csv`.\n"
   ]
  },
  {
   "cell_type": "code",
   "execution_count": 12,
   "metadata": {
    "execution": {
     "iopub.execute_input": "2025-04-03T16:11:18.117319Z",
     "iopub.status.busy": "2025-04-03T16:11:18.117140Z",
     "iopub.status.idle": "2025-04-03T16:12:32.685498Z",
     "shell.execute_reply": "2025-04-03T16:12:32.684587Z",
     "shell.execute_reply.started": "2025-04-03T16:11:18.117302Z"
    },
    "trusted": true
   },
   "outputs": [
    {
     "name": "stdout",
     "output_type": "stream",
     "text": [
      "Loading data...\n",
      "Preprocessing original training data...\n",
      "Vectorizing texts using method: ensemble\n",
      "Vectorizing with SentenceTransformer...\n"
     ]
    },
    {
     "data": {
      "application/vnd.jupyter.widget-view+json": {
       "model_id": "aa3ce923e36947b48171656f8c77c736",
       "version_major": 2,
       "version_minor": 0
      },
      "text/plain": [
       "Batches:   0%|          | 0/764 [00:00<?, ?it/s]"
      ]
     },
     "metadata": {},
     "output_type": "display_data"
    },
    {
     "name": "stdout",
     "output_type": "stream",
     "text": [
      "Vectorizing with SentenceTransformer...\n"
     ]
    },
    {
     "data": {
      "application/vnd.jupyter.widget-view+json": {
       "model_id": "61a000cd74b945ba9f592238fa769a34",
       "version_major": 2,
       "version_minor": 0
      },
      "text/plain": [
       "Batches:   0%|          | 0/211 [00:00<?, ?it/s]"
      ]
     },
     "metadata": {},
     "output_type": "display_data"
    },
    {
     "name": "stdout",
     "output_type": "stream",
     "text": [
      "Vectorizing with TF-IDF (binary, unigrams + bigrams + trigrams)...\n",
      "Tuning LogisticRegression hyperparameters...\n",
      "Fitting 3 folds for each of 6 candidates, totalling 18 fits\n",
      "\n",
      "Best Parameters: {'C': 0.1}\n",
      "\n",
      "Evaluating model on development set...\n",
      "\n",
      "Model Performance Metrics:\n",
      "Accuracy: 0.6346\n",
      "Macro-P: 0.6343\n",
      "Macro-R: 0.6333\n",
      "Macro-F1: 0.6333\n",
      "W Macro-P: 0.6344\n",
      "W Macro-R: 0.6346\n",
      "W Macro-F1: 0.6340\n",
      "MCC: 0.2676\n",
      "✅ predictions.csv with header has been saved.\n"
     ]
    }
   ],
   "source": [
    "preprocessor = DataPreprocessor()\n",
    "model = SVMModel()\n",
    "\n",
    "X_train, X_dev, y_train, y_dev = preprocessor.prepare_data(\n",
    "    'data/training_data/NLI/train.csv',\n",
    "    'data/training_data/NLI/dev.csv',\n",
    "    method='ensemble'\n",
    ")\n",
    "\n",
    "\n",
    "results = model.tune_hyperparameters(X_train, y_train, X_dev, y_dev)\n",
    "\n",
    "y_pred = model.predict(X_dev)\n",
    "\n",
    "pd.DataFrame({\"prediction\": y_pred}).to_csv(\"predictions.csv\", index=False)\n",
    "print(\"predictions.csv with header has been saved.\")\n",
    "\n",
    "\n"
   ]
  },
  {
   "cell_type": "markdown",
   "metadata": {},
   "source": [
    "## Performance Comparison Plot\n",
    "\n",
    "Compares the model's performance metrics against the baseline.\n",
    "\n",
    "- Metrics: Accuracy, Macro/Weighted Precision, Recall, F1, and MCC.\n",
    "- Bars show baseline vs. the trained SVM model (SBERT + TF-IDF).\n",
    "- Annotates exact values on top of each bar for clarity.\n"
   ]
  },
  {
   "cell_type": "code",
   "execution_count": null,
   "metadata": {
    "execution": {
     "iopub.execute_input": "2025-04-03T16:12:32.687089Z",
     "iopub.status.busy": "2025-04-03T16:12:32.686750Z",
     "iopub.status.idle": "2025-04-03T16:12:33.075549Z",
     "shell.execute_reply": "2025-04-03T16:12:33.074634Z",
     "shell.execute_reply.started": "2025-04-03T16:12:32.687063Z"
    },
    "trusted": true
   },
   "outputs": [
    {
     "data": {
      "image/png": "[encoded data removed]",
      "text/plain": [
       "<Figure size 800x600 with 1 Axes>"
      ]
     },
     "metadata": {},
     "output_type": "display_data"
    }
   ],
   "source": [
    "import matplotlib.pyplot as plt\n",
    "import numpy as np\n",
    "\n",
    "# Baseline results from the poster\n",
    "baseline_scores = {\n",
    "    \"Accuracy\": 0.5863,\n",
    "    \"Macro-P\": 0.5855,\n",
    "    \"Macro-R\": 0.5848,\n",
    "    \"Macro-F1\": 0.5846,\n",
    "    \"W Macro-P\": 0.5857,\n",
    "    \"W Macro-R\": 0.5863,\n",
    "    \"W Macro-F1\": 0.5854,\n",
    "    \"MCC\": 0.1703\n",
    "}\n",
    "\n",
    "your_scores = {\n",
    "    \"Accuracy\": results[\"Accuracy\"],\n",
    "    \"Macro-P\": results[\"Macro-P\"],\n",
    "    \"Macro-R\": results[\"Macro-R\"],\n",
    "    \"Macro-F1\": results[\"Macro-F1\"],\n",
    "    \"W Macro-P\": results[\"W Macro-P\"],\n",
    "    \"W Macro-R\": results[\"W Macro-R\"],\n",
    "    \"W Macro-F1\": results[\"W Macro-F1\"],\n",
    "    \"MCC\": results[\"MCC\"]\n",
    "}\n",
    "\n",
    "\n",
    "# Plotting\n",
    "labels = list(baseline_scores.keys())\n",
    "baseline_values = [baseline_scores[key] for key in labels]\n",
    "your_values = [your_scores[key] for key in labels]\n",
    "\n",
    "x = np.arange(len(labels))\n",
    "width = 0.20\n",
    "\n",
    "fig, ax = plt.subplots(figsize=(8, 6))\n",
    "bars1 = ax.bar(x - width/2, baseline_values, width, label='Baseline')\n",
    "bars2 = ax.bar(x + width/2, your_values, width, label='SVM with SBERT and TF-IDF')\n",
    "\n",
    "ax.set_ylabel('Scores')\n",
    "ax.set_title('SVM Model Performance vs Baseline')\n",
    "ax.set_xticks(x)\n",
    "ax.set_xticklabels(labels, rotation=45)\n",
    "ax.legend()\n",
    "ax.set_ylim(0, 0.8)\n",
    "\n",
    "# Add values\n",
    "for bar in bars1 + bars2:\n",
    "    yval = bar.get_height()\n",
    "    ax.text(bar.get_x() + bar.get_width()/2, yval + 0.01, f'{yval:.2f}', ha='center', va='bottom')\n",
    "\n",
    "plt.tight_layout()\n",
    "plt.show()\n"
   ]
  }
 ],
 "metadata": {
  "kaggle": {
   "accelerator": "nvidiaTeslaT4",
   "dataSources": [
    {
     "datasetId": 6763,
     "sourceId": 9801,
     "sourceType": "datasetVersion"
    },
    {
     "datasetId": 7021775,
     "sourceId": 11239308,
     "sourceType": "datasetVersion"
    },
    {
     "datasetId": 7022390,
     "sourceId": 11240111,
     "sourceType": "datasetVersion"
    },
    {
     "datasetId": 7022394,
     "sourceId": 11240115,
     "sourceType": "datasetVersion"
    },
    {
     "datasetId": 7030941,
     "sourceId": 11251372,
     "sourceType": "datasetVersion"
    },
    {
     "datasetId": 7031424,
     "sourceId": 11252021,
     "sourceType": "datasetVersion"
    }
   ],
   "dockerImageVersionId": 30919,
   "isGpuEnabled": true,
   "isInternetEnabled": true,
   "language": "python",
   "sourceType": "notebook"
  },
  "kernelspec": {
   "display_name": "Python 3",
   "language": "python",
   "name": "python3"
  },
  "language_info": {
   "codemirror_mode": {
    "name": "ipython",
    "version": 3
   },
   "file_extension": ".py",
   "mimetype": "text/x-python",
   "name": "python",
   "nbconvert_exporter": "python",
   "pygments_lexer": "ipython3",
   "version": "3.9.20"
  }
 },
 "nbformat": 4,
 "nbformat_minor": 4
}
